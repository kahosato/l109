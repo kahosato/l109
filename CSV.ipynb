{
 "cells": [
  {
   "cell_type": "code",
   "execution_count": 5,
   "metadata": {
    "collapsed": true
   },
   "outputs": [],
   "source": [
    "from util import *"
   ]
  },
  {
   "cell_type": "code",
   "execution_count": 1,
   "metadata": {
    "collapsed": true
   },
   "outputs": [],
   "source": [
    "with open(\"30_fsq_comm.txt\") as f:\n",
    "    commids = set(map(int, filter(lambda x: x, f.read().split(\" \"))))    "
   ]
  },
  {
   "cell_type": "code",
   "execution_count": 10,
   "metadata": {
    "collapsed": false
   },
   "outputs": [],
   "source": [
    "partitions = read_partitions()\n",
    "fsq_in_comm = set()\n",
    "for nid, p in partitions.iteritems():\n",
    "    if p in commids:\n",
    "        fsq_in_comm.add(nid)"
   ]
  },
  {
   "cell_type": "code",
   "execution_count": 11,
   "metadata": {
    "collapsed": false
   },
   "outputs": [
    {
     "name": "stdout",
     "output_type": "stream",
     "text": [
      "81318\n",
      "86092\n"
     ]
    }
   ],
   "source": [
    "print len(fsq_in_comm)\n",
    "print len(partitions)"
   ]
  },
  {
   "cell_type": "code",
   "execution_count": 12,
   "metadata": {
    "collapsed": true
   },
   "outputs": [],
   "source": [
    "fsq = gen_fsq_nodes()"
   ]
  },
  {
   "cell_type": "code",
   "execution_count": 25,
   "metadata": {
    "collapsed": false
   },
   "outputs": [
    {
     "name": "stdout",
     "output_type": "stream",
     "text": [
      "set(['Lower East Side', 'Greenpoint', 'Financial District', 'Williamsburg', 'West Village', 'Morningside Heights', 'Upper West Side', 'East Harlem', 'Prospect-Lefferts Gardens', 'Crown Heights', 'Washington Heights', 'Upper East Side', 'Astoria', 'Flatbush', 'Clinton Hill', 'SoHo', 'Bedford-Stuyvesant', 'Long Island City', 'Park Slope', 'Chinatown', 'Prospect Heights', 'Midtown', 'Kips Bay', \"Hell's Kitchen\", 'Harlem', 'Chelsea', 'Greenwich Village', 'Bushwick', 'Fort Greene', 'East Village'])\n"
     ]
    }
   ],
   "source": [
    "floats = [\"longitude\", \"latitude\"]\n",
    "keys = [\"neighbourhood\", \"latitude\", \"longitude\"]\n",
    "listings = gen_listings(keys, floats)\n",
    "abnb_nbhs = set()\n",
    "with open(\"abnb_filtered_nbh.txt\", 'r') as f:\n",
    "    for n in f:\n",
    "        abnb_nbhs.add(n.strip())\n",
    "print abnb_nbhs\n",
    "lid_fsq_comm = {}\n",
    "with open(\"airbnb_community.txt\", 'r') as f:\n",
    "    for l in f:\n",
    "        if l:\n",
    "            info = l.split(\" \")\n",
    "            lid_fsq_comm[info[0]] = int(info[1])\n",
    "with open(\"abnb_nbh.csv\", 'w') as f:\n",
    "    f.write(\"id, latitude, longitude, neighbourhood, comm\\n\")\n",
    "    for lid, l in listings.iteritems():\n",
    "        if listings[lid][\"neighbourhood\"] in abnb_nbhs and lid_fsq_comm[lid] in commids:\n",
    "            f.write(\"{},{},{},{},{}\\n\".format(lid, l[\"latitude\"], l[\"longitude\"], l[\"neighbourhood\"], lid_fsq_comm[lid]))\n"
   ]
  },
  {
   "cell_type": "code",
   "execution_count": null,
   "metadata": {
    "collapsed": true
   },
   "outputs": [],
   "source": []
  }
 ],
 "metadata": {
  "kernelspec": {
   "display_name": "Python 2",
   "language": "python",
   "name": "python2"
  },
  "language_info": {
   "codemirror_mode": {
    "name": "ipython",
    "version": 2
   },
   "file_extension": ".py",
   "mimetype": "text/x-python",
   "name": "python",
   "nbconvert_exporter": "python",
   "pygments_lexer": "ipython2",
   "version": "2.7.10"
  }
 },
 "nbformat": 4,
 "nbformat_minor": 1
}
